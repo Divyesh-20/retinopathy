{
 "cells": [
  {
   "cell_type": "code",
   "execution_count": 1,
   "id": "87f3df74",
   "metadata": {},
   "outputs": [
    {
     "name": "stdout",
     "output_type": "stream",
     "text": [
      "WARNING:tensorflow:From C:\\Users\\Lenovo\\anaconda3\\Lib\\site-packages\\keras\\src\\losses.py:2976: The name tf.losses.sparse_softmax_cross_entropy is deprecated. Please use tf.compat.v1.losses.sparse_softmax_cross_entropy instead.\n",
      "\n",
      "WARNING:tensorflow:From C:\\Users\\Lenovo\\anaconda3\\Lib\\site-packages\\keras\\src\\backend.py:1398: The name tf.executing_eagerly_outside_functions is deprecated. Please use tf.compat.v1.executing_eagerly_outside_functions instead.\n",
      "\n",
      "WARNING:tensorflow:From C:\\Users\\Lenovo\\anaconda3\\Lib\\site-packages\\keras\\src\\layers\\normalization\\batch_normalization.py:979: The name tf.nn.fused_batch_norm is deprecated. Please use tf.compat.v1.nn.fused_batch_norm instead.\n",
      "\n"
     ]
    }
   ],
   "source": [
    "from tensorflow.keras.models import load_model\n",
    "\n",
    "loaded_model = load_model('incep_lstm.hdf5')  # Load the model from the directory"
   ]
  },
  {
   "cell_type": "code",
   "execution_count": 2,
   "id": "f0f7b1d6",
   "metadata": {},
   "outputs": [
    {
     "ename": "SyntaxError",
     "evalue": "invalid syntax (1292376790.py, line 5)",
     "output_type": "error",
     "traceback": [
      "\u001b[1;36m  Cell \u001b[1;32mIn[2], line 5\u001b[1;36m\u001b[0m\n\u001b[1;33m    def load_and_preprocess_image(\"C:\\Users\\sheet\\OneDrive\\Desktop\\coursera\\colored_images\\Moderate\\00a8624548a9.png\"):\u001b[0m\n\u001b[1;37m                                  ^\u001b[0m\n\u001b[1;31mSyntaxError\u001b[0m\u001b[1;31m:\u001b[0m invalid syntax\n"
     ]
    }
   ],
   "source": [
    "import numpy as np\n",
    "import joblib\n",
    "\n",
    "# Function to load and preprocess a single image\n",
    "def load_and_preprocess_image(\"C:\\Users\\sheet\\OneDrive\\Desktop\\coursera\\colored_images\\Moderate\\00a8624548a9.png\"):\n",
    "    # Load and preprocess the image here\n",
    "    # Return the preprocessed image as a numpy array\n",
    "    pass\n",
    "\n",
    "# Load and preprocess the single image\n",
    "image_path = \"path_to_single_image.jpg\"  # Replace with the path to your single image\n",
    "preprocessed_image = load_and_preprocess_image(image_path)\n",
    "\n",
    "# Load the trained model\n",
    "model = joblib.load(\"path_to_trained_model.pkl\")\n",
    "\n",
    "# Test the model on the single image\n",
    "predicted_label = model.predict(np.expand_dims(preprocessed_image, axis=0))[0]\n",
    "\n",
    "# Print the predicted label\n",
    "print(\"Predicted Label:\", predicted_label)\n",
    "#tensorflow\n",
    "\n",
    "# Load the trained model\n",
    "model = tf.keras.models.load_model(\"path_to_trained_model.h5\")\n",
    "\n",
    "# Test the model on the single image\n",
    "predicted_probs = model.predict(np.expand_dims(preprocessed_image, axis=0))[0]\n",
    "predicted_label = np.argmax(predicted_probs)  # Assuming it's a classification model\n",
    "\n",
    "# Print the predicted label\n",
    "print(\"Predicted Label:\", predicted_label)"
   ]
  },
  {
   "cell_type": "code",
   "execution_count": 1,
   "id": "f9896d51",
   "metadata": {},
   "outputs": [
    {
     "name": "stdout",
     "output_type": "stream",
     "text": [
      "WARNING:tensorflow:From C:\\Users\\Lenovo\\anaconda3\\Lib\\site-packages\\keras\\src\\losses.py:2976: The name tf.losses.sparse_softmax_cross_entropy is deprecated. Please use tf.compat.v1.losses.sparse_softmax_cross_entropy instead.\n",
      "\n"
     ]
    }
   ],
   "source": [
    "import numpy as np\n",
    "import joblib\n",
    "import tensorflow as tf\n",
    "from PIL import Image"
   ]
  },
  {
   "cell_type": "code",
   "execution_count": null,
   "id": "f0ce78f7",
   "metadata": {},
   "outputs": [],
   "source": [
    "\n",
    "# # Function to load and preprocess a single image\n",
    "# def load_and_preprocess_image(image_path):\n",
    "#     img = Image.open(image_path)\n",
    "#     img = img.resize((256, 256))  # Adjust dimensions as needed\n",
    "#     #reshaping the image in to a 4D array\n",
    "# #     img = img.reshape(-1,256,256,3)\n",
    "#     #converting image to array\n",
    "#     img = np.asarray(img, dtype= np.float32)\n",
    "#     img_array = np.array(img) / 255.0  # Normalize pixel values to [0, 1]\n",
    "#     return img_array"
   ]
  },
  {
   "cell_type": "code",
   "execution_count": 4,
   "id": "f286af93",
   "metadata": {},
   "outputs": [],
   "source": [
    "def load_and_preprocess_image(image_path):\n",
    "#resizing the image to (256,256)\n",
    "    img = Image.open(image_path)\n",
    "    img = img.resize((256,256))\n",
    "  #appending image to the image list\n",
    "#     image.append(img)\n",
    "  #converting image to array\n",
    "    img = np.asarray(img, dtype= np.float32)\n",
    "  #normalizing the image\n",
    "    img = img / 255\n",
    "  #reshaping the image in to a 4D array\n",
    "    img = img.reshape(256,256,3)\n",
    "    img_array = np.array(img) / 255.0  # Normalize pixel values to [0, 1]\n",
    "    return img_array"
   ]
  },
  {
   "cell_type": "code",
   "execution_count": 10,
   "id": "201ee4bb",
   "metadata": {},
   "outputs": [],
   "source": [
    "# Load and preprocess the single image\n",
    "# image_path = \"C:\\\\Users\\\\Lenovo\\\\Desktop\\\\DR_project\\\\dataset\\\\cropped_live_data\\\\2019-03-18-01_20190318_125535_OCTReport_L_001.jpg\"  # Replace with the path to your single image\n",
    "image_path= r\"C:\\Users\\Lenovo\\Desktop\\DR_project\\dataset\\archive\\colored_images\\Severe\\0cb14014117d.png\"\n",
    "preprocessed_image = load_and_preprocess_image(image_path)\n"
   ]
  },
  {
   "cell_type": "code",
   "execution_count": 11,
   "id": "1eaf4fe2",
   "metadata": {},
   "outputs": [],
   "source": [
    "# Load the trained model\n",
    "model = tf.keras.models.load_model(\"incep_lstm.hdf5\")"
   ]
  },
  {
   "cell_type": "code",
   "execution_count": 12,
   "id": "4959092d",
   "metadata": {},
   "outputs": [
    {
     "name": "stdout",
     "output_type": "stream",
     "text": [
      "1/1 [==============================] - 9s 9s/step\n"
     ]
    }
   ],
   "source": [
    "# Test the model on the single image\n",
    "predicted_probs = model.predict(np.expand_dims(preprocessed_image, axis=0))[0]\n",
    "predicted_label = np.argmax(predicted_probs)  # Assuming it's a classification model"
   ]
  },
  {
   "cell_type": "code",
   "execution_count": 13,
   "id": "008055b9",
   "metadata": {},
   "outputs": [],
   "source": [
    "# Dictionary mapping numeric labels to string representations\n",
    "label_mapping = {\n",
    "    0: 'Mild',\n",
    "    1: 'Moderate',\n",
    "    2: 'No_DR',\n",
    "    3: 'Proliferate_DR',\n",
    "    4: 'Severe'\n",
    "}\n",
    "# Get the string representation of the predicted label\n",
    "predicted_label_string = label_mapping[predicted_label]"
   ]
  },
  {
   "cell_type": "code",
   "execution_count": 14,
   "id": "4cd2d12e",
   "metadata": {},
   "outputs": [
    {
     "name": "stdout",
     "output_type": "stream",
     "text": [
      "Predicted Label: No_DR\n"
     ]
    }
   ],
   "source": [
    "# Print the predicted label\n",
    "print(\"Predicted Label:\", predicted_label_string)"
   ]
  },
  {
   "cell_type": "code",
   "execution_count": null,
   "id": "1ed0bf7a",
   "metadata": {},
   "outputs": [],
   "source": []
  },
  {
   "cell_type": "code",
   "execution_count": null,
   "id": "e480f790",
   "metadata": {},
   "outputs": [],
   "source": []
  },
  {
   "cell_type": "code",
   "execution_count": null,
   "id": "9d84c969",
   "metadata": {},
   "outputs": [],
   "source": []
  }
 ],
 "metadata": {
  "kernelspec": {
   "display_name": "Python 3 (ipykernel)",
   "language": "python",
   "name": "python3"
  },
  "language_info": {
   "codemirror_mode": {
    "name": "ipython",
    "version": 3
   },
   "file_extension": ".py",
   "mimetype": "text/x-python",
   "name": "python",
   "nbconvert_exporter": "python",
   "pygments_lexer": "ipython3",
   "version": "3.11.5"
  }
 },
 "nbformat": 4,
 "nbformat_minor": 5
}
